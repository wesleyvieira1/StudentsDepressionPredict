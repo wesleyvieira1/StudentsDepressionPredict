{
 "cells": [
  {
   "cell_type": "code",
   "execution_count": 1,
   "id": "ecde2188",
   "metadata": {},
   "outputs": [],
   "source": [
    "import pandas as pd\n",
    "import numpy as np\n",
    "from sklearn.model_selection import train_test_split, GridSearchCV\n",
    "from sklearn.svm import SVC\n",
    "from sklearn.preprocessing import StandardScaler\n",
    "from sklearn.metrics import accuracy_score, classification_report, confusion_matrix\n",
    "import matplotlib.pyplot as plt\n",
    "import seaborn as sns\n",
    "import joblib"
   ]
  },
  {
   "cell_type": "markdown",
   "id": "49a61a29",
   "metadata": {},
   "source": [
    "### 1. Carregar o conjunto de dados"
   ]
  },
  {
   "cell_type": "code",
   "execution_count": 2,
   "id": "3555aca2",
   "metadata": {},
   "outputs": [],
   "source": [
    "df = pd.read_csv(\"../data/Student_Depression_Cleaned.csv\", sep=',')"
   ]
  },
  {
   "cell_type": "markdown",
   "id": "d4c80cd2",
   "metadata": {},
   "source": [
    "### 2. Definição das features e o target"
   ]
  },
  {
   "cell_type": "code",
   "execution_count": 3,
   "id": "36eaffbd",
   "metadata": {},
   "outputs": [],
   "source": [
    "features = [\n",
    "    'Academic Pressure', 'Have you ever had suicidal thoughts ?', 'Weighted Stress', 'Academic_Work_Interaction',\n",
    "    'Financial Stress', 'Risk Group', 'Academic_Financial_Interaction', 'Work_Financial_Interaction',\n",
    "]\n",
    "\n",
    "X = df[features]\n",
    "y = df['Depression']"
   ]
  },
  {
   "cell_type": "markdown",
   "id": "2b4a2ff0",
   "metadata": {},
   "source": [
    "### 3. Divisão dos dados em conjuntos de treino e teste"
   ]
  },
  {
   "cell_type": "code",
   "execution_count": 4,
   "id": "0e910f6a",
   "metadata": {},
   "outputs": [],
   "source": [
    "X_train, X_test, y_train, y_test = train_test_split(X, y, test_size=0.3, random_state=1) "
   ]
  },
  {
   "cell_type": "markdown",
   "id": "038d01d3",
   "metadata": {},
   "source": [
    "#### 3.1. Padronização dos dados"
   ]
  },
  {
   "cell_type": "code",
   "execution_count": 5,
   "id": "07d42bc9",
   "metadata": {},
   "outputs": [],
   "source": [
    "#scaler = StandardScaler()\n",
    "#X_train_scaled = scaler.fit_transform(X_train)\n",
    "#X_test_scaled = scaler.transform(X_test)"
   ]
  },
  {
   "cell_type": "markdown",
   "id": "48d65ffc",
   "metadata": {},
   "source": [
    "### 4. Definição da grade de parâmetros para o GridSearchCV e Treinamento do Modelo"
   ]
  },
  {
   "cell_type": "code",
   "execution_count": 6,
   "id": "03157866",
   "metadata": {},
   "outputs": [],
   "source": [
    "#param_grid = {\n",
    "#    'C': [0.1, 1, 10, 50, 100],\n",
    "#    'gamma': [1, 0.1, 0.01, 0.001, 0.0001],\n",
    "#    'kernel': ['rbf']\n",
    "#}"
   ]
  },
  {
   "cell_type": "code",
   "execution_count": 7,
   "id": "a0da4d3e",
   "metadata": {},
   "outputs": [],
   "source": [
    "#grid = GridSearchCV(SVC(), param_grid, refit=True, verbose=2, cv=10)\n",
    "#grid.fit(X_train_scaled, y_train)"
   ]
  },
  {
   "cell_type": "code",
   "execution_count": 8,
   "id": "7184b9d3",
   "metadata": {},
   "outputs": [],
   "source": [
    "#best_model = grid.best_estimator_\n",
    "#print(f\"Melhores parâmetros encontrados: {grid.best_params_}\")"
   ]
  },
  {
   "cell_type": "code",
   "execution_count": 9,
   "id": "bcaf87aa",
   "metadata": {},
   "outputs": [],
   "source": [
    "#joblib.dump(best_model, '../modelos/models/svm_best_model.pkl')\n",
    "#joblib.dump(scaler, '../modelos/models/svm_scaler.pkl')"
   ]
  },
  {
   "cell_type": "markdown",
   "id": "93127cca",
   "metadata": {},
   "source": [
    "#### 4.1 Aplicando SVM com o modelo salvo"
   ]
  },
  {
   "cell_type": "code",
   "execution_count": 10,
   "id": "963b6a2d",
   "metadata": {},
   "outputs": [],
   "source": [
    "best_model = joblib.load('../modelos/models/svm_best_model.pkl')\n",
    "scaler = joblib.load('../modelos/models/svm_scaler.pkl')"
   ]
  },
  {
   "cell_type": "code",
   "execution_count": 11,
   "id": "610d70b0",
   "metadata": {},
   "outputs": [],
   "source": [
    "X_train_scaled = scaler.fit_transform(X_train)\n",
    "X_test_scaled = scaler.transform(X_test)"
   ]
  },
  {
   "cell_type": "code",
   "execution_count": 12,
   "id": "804cb763",
   "metadata": {},
   "outputs": [],
   "source": [
    "y_train_pred = best_model.predict(X_train_scaled)\n",
    "y_test_pred = best_model.predict(X_test_scaled)"
   ]
  },
  {
   "cell_type": "markdown",
   "id": "e1d659f6",
   "metadata": {},
   "source": [
    "### 5. Cálculo Ein e Eout"
   ]
  },
  {
   "cell_type": "code",
   "execution_count": 13,
   "id": "4f2a230c",
   "metadata": {},
   "outputs": [
    {
     "name": "stdout",
     "output_type": "stream",
     "text": [
      "Erro dentro da amostra (Ein): 0.1687\n",
      "Erro fora da amostra (Eout): 0.1702\n"
     ]
    }
   ],
   "source": [
    "ein = 1 - accuracy_score(y_train, y_train_pred)\n",
    "eout = 1 - accuracy_score(y_test, y_test_pred)\n",
    "print(f\"Erro dentro da amostra (Ein): {ein:.4f}\")\n",
    "print(f\"Erro fora da amostra (Eout): {eout:.4f}\")"
   ]
  },
  {
   "cell_type": "markdown",
   "id": "dda25ceb",
   "metadata": {},
   "source": [
    "### 6. Cálculo do valor esperado de Eout (limite superior)"
   ]
  },
  {
   "cell_type": "code",
   "execution_count": 14,
   "id": "61e16e48",
   "metadata": {},
   "outputs": [
    {
     "name": "stdout",
     "output_type": "stream",
     "text": [
      "Número de vetores de suporte: 8425\n",
      "Tamanho do conjunto de treino: 19483\n",
      "Valor esperado de Eout (limite superior): 0.4324\n"
     ]
    }
   ],
   "source": [
    "n_support_vectors = best_model.support_vectors_.shape[0]\n",
    "n_training_samples = X_train.shape[0]\n",
    "expected_eout_bound = n_support_vectors / n_training_samples\n",
    "\n",
    "print(f\"Número de vetores de suporte: {n_support_vectors}\")\n",
    "print(f\"Tamanho do conjunto de treino: {n_training_samples}\")\n",
    "print(f\"Valor esperado de Eout (limite superior): {expected_eout_bound:.4f}\")"
   ]
  },
  {
   "cell_type": "markdown",
   "id": "c26e73f1",
   "metadata": {},
   "source": [
    "### 7. Gráfico de Erros"
   ]
  },
  {
   "cell_type": "code",
   "execution_count": 15,
   "id": "baf19908",
   "metadata": {},
   "outputs": [
    {
     "data": {
      "image/png": "[encoded data removed]",
      "text/plain": [
       "<Figure size 800x500 with 1 Axes>"
      ]
     },
     "metadata": {},
     "output_type": "display_data"
    }
   ],
   "source": [
    "plt.figure(figsize=(8, 5))\n",
    "plt.bar(['Ein', 'Eout'], [ein, eout], color=['blue', 'orange'])\n",
    "plt.title('Erro Dentro da Amostra (Ein) vs. Erro Fora da Amostra (Eout)')\n",
    "plt.ylabel('Taxa de Erro')\n",
    "plt.ylim(0, max(ein, eout) + 0.1)\n",
    "for i, v in enumerate([ein, eout]):\n",
    "    plt.text(i, v + 0.01, f\"{v:.4f}\", ha='center')\n",
    "plt.show()"
   ]
  },
  {
   "cell_type": "markdown",
   "id": "a8005472",
   "metadata": {},
   "source": [
    "### 8. Métricas de classificação"
   ]
  },
  {
   "cell_type": "code",
   "execution_count": 16,
   "id": "2555635c",
   "metadata": {},
   "outputs": [
    {
     "name": "stdout",
     "output_type": "stream",
     "text": [
      "              precision    recall  f1-score   support\n",
      "\n",
      "           0       0.82      0.76      0.79      3500\n",
      "           1       0.83      0.88      0.86      4850\n",
      "\n",
      "    accuracy                           0.83      8350\n",
      "   macro avg       0.83      0.82      0.82      8350\n",
      "weighted avg       0.83      0.83      0.83      8350\n",
      "\n"
     ]
    }
   ],
   "source": [
    "print(classification_report(y_test, y_test_pred))"
   ]
  },
  {
   "cell_type": "markdown",
   "id": "ae6dc0e0",
   "metadata": {},
   "source": [
    "### 9. Matriz de Confusão"
   ]
  },
  {
   "cell_type": "code",
   "execution_count": 17,
   "id": "d4bafa01",
   "metadata": {},
   "outputs": [
    {
     "data": {
      "image/png": "[encoded data removed]",
      "text/plain": [
       "<Figure size 800x600 with 2 Axes>"
      ]
     },
     "metadata": {},
     "output_type": "display_data"
    }
   ],
   "source": [
    "cm = confusion_matrix(y_test, y_test_pred)\n",
    "plt.figure(figsize=(8, 6))\n",
    "sns.heatmap(cm, annot=True, fmt='d', cmap='Blues', xticklabels=['Não Depressivo', 'Depressivo'], yticklabels=['Não Depressivo', 'Depressivo'])\n",
    "plt.title('Matriz de Confusão')\n",
    "plt.ylabel('Verdadeiro')\n",
    "plt.xlabel('Previsto')\n",
    "plt.show()"
   ]
  }
 ],
 "metadata": {
  "kernelspec": {
   "display_name": "Python 3",
   "language": "python",
   "name": "python3"
  },
  "language_info": {
   "codemirror_mode": {
    "name": "ipython",
    "version": 3
   },
   "file_extension": ".py",
   "mimetype": "text/x-python",
   "name": "python",
   "nbconvert_exporter": "python",
   "pygments_lexer": "ipython3",
   "version": "3.13.7"
  }
 },
 "nbformat": 4,
 "nbformat_minor": 5
}
